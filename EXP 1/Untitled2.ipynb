{
  "nbformat": 4,
  "nbformat_minor": 0,
  "metadata": {
    "colab": {
      "provenance": []
    },
    "kernelspec": {
      "name": "python3",
      "display_name": "Python 3"
    },
    "language_info": {
      "name": "python"
    }
  },
  "cells": [
    {
      "cell_type": "code",
      "source": [
        "import re\n",
        "\n",
        "date_pattern = r\"\\b(?:\\d{1,2}[-/]\\d{1,2}[-/]\\d{2,4}|\\d{4}[-/]\\d{1,2}[-/]\\d{1,2})\\b\"\n",
        "text = \"Important dates: 12/08/2025, 2025-08-12, 8-8-25.\"\n",
        "dates = re.findall(date_pattern, text)\n",
        "tokens = re.findall(r\"\\w+|\\S\", text)\n",
        "print(\"Dates:\", dates)\n",
        "print(\"Tokens:\", tokens)"
      ],
      "metadata": {
        "colab": {
          "base_uri": "https://localhost:8080/"
        },
        "id": "Aphi2JtKO-8L",
        "outputId": "521e095b-3044-4f92-8422-76276ae4640b"
      },
      "execution_count": 4,
      "outputs": [
        {
          "output_type": "stream",
          "name": "stdout",
          "text": [
            "Dates: ['12/08/2025', '2025-08-12', '8-8-25']\n",
            "Tokens: ['Important', 'dates', ':', '12', '/', '08', '/', '2025', ',', '2025', '-', '08', '-', '12', ',', '8', '-', '8', '-', '25', '.']\n"
          ]
        }
      ]
    },
    {
      "cell_type": "code",
      "source": [
        "import re\n",
        "\n",
        "url_pattern = r\"https?://[^\\s/$.?#].[^\\s]*\"\n",
        "\n",
        "text = \"Visit https://example.com or http://test.org for more info.\"\n",
        "urls = re.findall(url_pattern, text)\n",
        "tokens = re.findall(r\"\\w+|\\S\", text)\n",
        "print(\"URLs:\", urls)\n",
        "print(\"Tokens:\", tokens)"
      ],
      "metadata": {
        "colab": {
          "base_uri": "https://localhost:8080/"
        },
        "id": "a2FztIU9OyZ3",
        "outputId": "91bac1da-6750-4143-b3ae-84164b17b0bc"
      },
      "execution_count": 3,
      "outputs": [
        {
          "output_type": "stream",
          "name": "stdout",
          "text": [
            "URLs: ['https://example.com', 'http://test.org']\n",
            "Tokens: ['Visit', 'https', ':', '/', '/', 'example', '.', 'com', 'or', 'http', ':', '/', '/', 'test', '.', 'org', 'for', 'more', 'info', '.']\n"
          ]
        }
      ]
    },
    {
      "cell_type": "code",
      "execution_count": 2,
      "metadata": {
        "id": "oX1V6_ujnDXu",
        "colab": {
          "base_uri": "https://localhost:8080/"
        },
        "outputId": "1c73eb4d-a22b-4e28-996b-cffc7d7ae9a8"
      },
      "outputs": [
        {
          "output_type": "stream",
          "name": "stdout",
          "text": [
            "Emails: ['support@example.com', 'sales.team@yahoo.com']\n",
            "Tokens: ['Contact', 'us', 'at', 'support', '@', 'example', '.', 'com', 'or', 'sales', '.', 'team', '@', 'yahoo', '.', 'com']\n"
          ]
        }
      ],
      "source": [
        "import re\n",
        "\n",
        "email_pattern = r\"[a-zA-Z0-9_.+-]+@[a-zA-Z0-9-]+\\.[a-zA-Z0-9-.]+\"\n",
        "text = \"Contact us at support@example.com or sales.team@yahoo.com \"\n",
        "emails = re.findall(email_pattern, text)\n",
        "tokens = re.findall(r\"\\w+|\\S\", text)\n",
        "print(\"Emails:\", emails)\n",
        "print(\"Tokens:\", tokens)\n"
      ]
    }
  ]
}